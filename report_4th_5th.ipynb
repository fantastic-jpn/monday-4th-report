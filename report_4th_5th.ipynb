{
  "nbformat": 4,
  "nbformat_minor": 0,
  "metadata": {
    "colab": {
      "provenance": [],
      "authorship_tag": "ABX9TyMJ7/0xU6f6Cp5rPHjBncV9",
      "include_colab_link": true
    },
    "kernelspec": {
      "name": "python3",
      "display_name": "Python 3"
    },
    "language_info": {
      "name": "python"
    }
  },
  "cells": [
    {
      "cell_type": "markdown",
      "metadata": {
        "id": "view-in-github",
        "colab_type": "text"
      },
      "source": [
        "<a href=\"https://colab.research.google.com/github/fantastic-jpn/monday-4th-report/blob/main/report_4th_5th.ipynb\" target=\"_parent\"><img src=\"https://colab.research.google.com/assets/colab-badge.svg\" alt=\"Open In Colab\"/></a>"
      ]
    },
    {
      "cell_type": "code",
      "execution_count": null,
      "metadata": {
        "colab": {
          "base_uri": "https://localhost:8080/"
        },
        "id": "g4khqfcfECzt",
        "outputId": "e94111cd-6843-41bd-b365-930dbb00bf0e"
      },
      "outputs": [
        {
          "output_type": "stream",
          "name": "stdout",
          "text": [
            "Collecting deap\n",
            "  Downloading deap-1.4.3-cp311-cp311-manylinux_2_5_x86_64.manylinux1_x86_64.manylinux_2_17_x86_64.manylinux2014_x86_64.whl.metadata (13 kB)\n",
            "Requirement already satisfied: numpy in /usr/local/lib/python3.11/dist-packages (from deap) (2.0.2)\n",
            "Downloading deap-1.4.3-cp311-cp311-manylinux_2_5_x86_64.manylinux1_x86_64.manylinux_2_17_x86_64.manylinux2014_x86_64.whl (135 kB)\n",
            "\u001b[2K   \u001b[90m━━━━━━━━━━━━━━━━━━━━━━━━━━━━━━━━━━━━━━━━\u001b[0m \u001b[32m135.6/135.6 kB\u001b[0m \u001b[31m2.7 MB/s\u001b[0m eta \u001b[36m0:00:00\u001b[0m\n",
            "\u001b[?25hInstalling collected packages: deap\n",
            "Successfully installed deap-1.4.3\n"
          ]
        }
      ],
      "source": [
        "!pip install deap"
      ]
    },
    {
      "cell_type": "code",
      "source": [
        "!git clone https://github.com/PacktPublishing/Hands-On-Genetic-Algorithms-with-Python.git"
      ],
      "metadata": {
        "colab": {
          "base_uri": "https://localhost:8080/"
        },
        "id": "q_QGA9v0EJ0d",
        "outputId": "2aa17cfd-ca52-4cb1-d270-ebb04877a66e"
      },
      "execution_count": null,
      "outputs": [
        {
          "output_type": "stream",
          "name": "stdout",
          "text": [
            "Cloning into 'Hands-On-Genetic-Algorithms-with-Python'...\n",
            "remote: Enumerating objects: 246, done.\u001b[K\n",
            "remote: Counting objects: 100% (33/33), done.\u001b[K\n",
            "remote: Compressing objects: 100% (16/16), done.\u001b[K\n",
            "remote: Total 246 (delta 23), reused 17 (delta 17), pack-reused 213 (from 1)\u001b[K\n",
            "Receiving objects: 100% (246/246), 175.99 KiB | 2.32 MiB/s, done.\n",
            "Resolving deltas: 100% (136/136), done.\n"
          ]
        }
      ]
    },
    {
      "cell_type": "code",
      "source": [
        "!git clone https://github.com/ryanjoneil/tsplib.git"
      ],
      "metadata": {
        "colab": {
          "base_uri": "https://localhost:8080/"
        },
        "id": "kBXbPosQENps",
        "outputId": "e0ead3d2-d32a-4dcd-c4e5-e08c70535452"
      },
      "execution_count": null,
      "outputs": [
        {
          "output_type": "stream",
          "name": "stdout",
          "text": [
            "Cloning into 'tsplib'...\n",
            "remote: Enumerating objects: 269, done.\u001b[K\n",
            "remote: Counting objects: 100% (269/269), done.\u001b[K\n",
            "remote: Compressing objects: 100% (231/231), done.\u001b[K\n",
            "remote: Total 269 (delta 34), reused 269 (delta 34), pack-reused 0 (from 0)\u001b[K\n",
            "Receiving objects: 100% (269/269), 3.01 MiB | 8.06 MiB/s, done.\n",
            "Resolving deltas: 100% (34/34), done.\n"
          ]
        }
      ]
    },
    {
      "cell_type": "code",
      "source": [
        "!pip install numpy==1.23.5"
      ],
      "metadata": {
        "colab": {
          "base_uri": "https://localhost:8080/",
          "height": 597
        },
        "id": "9xLttvwdv8bM",
        "outputId": "a514bb9a-5402-4582-b40b-5906b09dead3"
      },
      "execution_count": null,
      "outputs": [
        {
          "output_type": "stream",
          "name": "stdout",
          "text": [
            "Collecting numpy==1.23.5\n",
            "  Downloading numpy-1.23.5-cp311-cp311-manylinux_2_17_x86_64.manylinux2014_x86_64.whl.metadata (2.3 kB)\n",
            "Downloading numpy-1.23.5-cp311-cp311-manylinux_2_17_x86_64.manylinux2014_x86_64.whl (17.1 MB)\n",
            "\u001b[2K   \u001b[90m━━━━━━━━━━━━━━━━━━━━━━━━━━━━━━━━━━━━━━━━\u001b[0m \u001b[32m17.1/17.1 MB\u001b[0m \u001b[31m27.1 MB/s\u001b[0m eta \u001b[36m0:00:00\u001b[0m\n",
            "\u001b[?25hInstalling collected packages: numpy\n",
            "  Attempting uninstall: numpy\n",
            "    Found existing installation: numpy 2.0.2\n",
            "    Uninstalling numpy-2.0.2:\n",
            "      Successfully uninstalled numpy-2.0.2\n",
            "\u001b[31mERROR: pip's dependency resolver does not currently take into account all the packages that are installed. This behaviour is the source of the following dependency conflicts.\n",
            "jaxlib 0.5.1 requires numpy>=1.25, but you have numpy 1.23.5 which is incompatible.\n",
            "jax 0.5.2 requires numpy>=1.25, but you have numpy 1.23.5 which is incompatible.\n",
            "xarray 2025.3.1 requires numpy>=1.24, but you have numpy 1.23.5 which is incompatible.\n",
            "tensorflow 2.18.0 requires numpy<2.1.0,>=1.26.0, but you have numpy 1.23.5 which is incompatible.\n",
            "bigframes 2.4.0 requires numpy>=1.24.0, but you have numpy 1.23.5 which is incompatible.\n",
            "blosc2 3.3.2 requires numpy>=1.26, but you have numpy 1.23.5 which is incompatible.\n",
            "chex 0.1.89 requires numpy>=1.24.1, but you have numpy 1.23.5 which is incompatible.\n",
            "treescope 0.1.9 requires numpy>=1.25.2, but you have numpy 1.23.5 which is incompatible.\n",
            "scikit-image 0.25.2 requires numpy>=1.24, but you have numpy 1.23.5 which is incompatible.\n",
            "pymc 5.22.0 requires numpy>=1.25.0, but you have numpy 1.23.5 which is incompatible.\n",
            "imbalanced-learn 0.13.0 requires numpy<3,>=1.24.3, but you have numpy 1.23.5 which is incompatible.\n",
            "thinc 8.3.6 requires numpy<3.0.0,>=2.0.0, but you have numpy 1.23.5 which is incompatible.\n",
            "albumentations 2.0.6 requires numpy>=1.24.4, but you have numpy 1.23.5 which is incompatible.\n",
            "albucore 0.0.24 requires numpy>=1.24.4, but you have numpy 1.23.5 which is incompatible.\n",
            "db-dtypes 1.4.3 requires numpy>=1.24.0, but you have numpy 1.23.5 which is incompatible.\u001b[0m\u001b[31m\n",
            "\u001b[0mSuccessfully installed numpy-1.23.5\n"
          ]
        },
        {
          "output_type": "display_data",
          "data": {
            "application/vnd.colab-display-data+json": {
              "pip_warning": {
                "packages": [
                  "numpy"
                ]
              },
              "id": "ece1bce62ff34c0e9ebb7b8f6011b7f3"
            }
          },
          "metadata": {}
        }
      ]
    },
    {
      "cell_type": "code",
      "source": [
        "from deap import tools\n",
        "from deap import base\n",
        "from deap import creator\n",
        "from deap import algorithms\n",
        "\n",
        "import math\n",
        "import numpy as np\n",
        "import random\n",
        "import matplotlib.pyplot as plt\n",
        "import numpy as np"
      ],
      "metadata": {
        "id": "VTvm2X5ZEOB9"
      },
      "execution_count": null,
      "outputs": []
    },
    {
      "cell_type": "code",
      "source": [
        "import gym\n",
        "import time\n",
        "\n",
        "import pickle\n",
        "\n",
        "from sklearn.neural_network import MLPRegressor\n",
        "\n",
        "from sklearn.exceptions import ConvergenceWarning\n",
        "from sklearn.utils._testing import ignore_warnings"
      ],
      "metadata": {
        "id": "Gahb1k4zNURk"
      },
      "execution_count": null,
      "outputs": []
    },
    {
      "cell_type": "code",
      "source": [
        "class CartPole:\n",
        "\n",
        "    def __init__(self, randomSeed=None):\n",
        "\n",
        "        self.env = gym.make('CartPole-v1', new_step_api=True)\n",
        "\n",
        "        if randomSeed is not None:\n",
        "            self.env.reset(seed=randomSeed)\n",
        "\n",
        "    def __len__(self):\n",
        "        return INPUTS * HIDDEN_LAYER + HIDDEN_LAYER * OUTPUTS + HIDDEN_LAYER + OUTPUTS\n",
        "\n",
        "    @ignore_warnings(category=ConvergenceWarning)\n",
        "    def initMlp(self, netParams):\n",
        "        \"\"\"\n",
        "        initializes a MultiLayer Perceptron (MLP) Regressor with the desired network architecture (layers)\n",
        "        and network parameters (weights and biases).\n",
        "        :param netParams: a list of floats representing the network parameters (weights and biases) of the MLP\n",
        "        :return: initialized MLP Regressor\n",
        "        \"\"\"\n",
        "\n",
        "        # create the initial MLP:\n",
        "        mlp = MLPRegressor(hidden_layer_sizes=(HIDDEN_LAYER,), max_iter=1)\n",
        "\n",
        "        # This will initialize input and output layers, and nodes weights and biases:\n",
        "        # we are not otherwise interested in training the MLP here, hence the settings max_iter=1 above\n",
        "        mlp.fit(np.random.uniform(low=-1, high=1, size=INPUTS).reshape(1, -1), np.ones(OUTPUTS))\n",
        "\n",
        "        # weights are represented as a list of 2 ndarrays:\n",
        "        # - hidden layer weights: INPUTS x HIDDEN_LAYER\n",
        "        # - output layer weights: HIDDEN_LAYER x OUTPUTS\n",
        "        numWeights = INPUTS * HIDDEN_LAYER + HIDDEN_LAYER * OUTPUTS\n",
        "        weights = np.array(netParams[:numWeights])\n",
        "        mlp.coefs_ = [\n",
        "            weights[0:INPUTS * HIDDEN_LAYER].reshape((INPUTS, HIDDEN_LAYER)),\n",
        "            weights[INPUTS * HIDDEN_LAYER:].reshape((HIDDEN_LAYER, OUTPUTS))\n",
        "        ]\n",
        "\n",
        "        # biases are represented as a list of 2 ndarrays:\n",
        "        # - hidden layer biases: HIDDEN_LAYER x 1\n",
        "        # - output layer biases: OUTPUTS x 1\n",
        "        biases = np.array(netParams[numWeights:])\n",
        "        mlp.intercepts_ = [biases[:HIDDEN_LAYER], biases[HIDDEN_LAYER:]]\n",
        "\n",
        "        return mlp\n",
        "\n",
        "    def getScore(self, netParams):\n",
        "        \"\"\"\n",
        "        calculates the score of a given solution, represented by the list of float-valued network parameters,\n",
        "        by creating a corresponding MLP Regressor, initiating an episode of the Cart-Pole environment and\n",
        "        running it with the MLP controlling the actions, while using the observations as inputs.\n",
        "        Higher score is better.\n",
        "        :param netParams: a list of floats representing the network parameters (weights and biases) of the MLP\n",
        "        :return: the calculated score value\n",
        "        \"\"\"\n",
        "\n",
        "        mlp = self.initMlp(netParams)\n",
        "\n",
        "        self.env.reset()\n",
        "\n",
        "        actionCounter = 0\n",
        "        totalReward = 0\n",
        "        observation = self.env.reset()\n",
        "        action = int(mlp.predict(observation.reshape(1, -1)) > 0)\n",
        "\n",
        "        while True:\n",
        "            actionCounter += 1\n",
        "            observation, reward, terminated, truncated, info = self.env.step(action)\n",
        "            totalReward += reward\n",
        "\n",
        "            if terminated or truncated:\n",
        "                break\n",
        "            else:\n",
        "                action = int(mlp.predict(observation.reshape(1, -1)) > 0)\n",
        "                #print(action)\n",
        "\n",
        "        return totalReward\n",
        "\n",
        "    def saveParams(self, netParams):\n",
        "        \"\"\"\n",
        "        serializes and saves a list of network parameters using pickle\n",
        "        :param netParams: a list of floats representing the network parameters (weights and biases) of the MLP\n",
        "        \"\"\"\n",
        "        savedParams = []\n",
        "        for param in netParams:\n",
        "            savedParams.append(param)\n",
        "\n",
        "        pickle.dump(savedParams, open(\"cart-pole-data.pickle\", \"wb\"))\n",
        "\n",
        "    def replayWithSavedParams(self):\n",
        "        \"\"\"\n",
        "        deserializes a saved list of network parameters and uses it to replay an episode\n",
        "        \"\"\"\n",
        "        savedParams = pickle.load(open(\"cart-pole-data.pickle\", \"rb\"))\n",
        "        self.replay(savedParams)\n",
        "\n",
        "    def replay(self, netParams):\n",
        "        \"\"\"\n",
        "        renders the environment and uses the given network parameters to replay an episode, to visualize a given solution\n",
        "        :param netParams: a list of floats representing the network parameters (weights and biases) of the MLP\n",
        "        \"\"\"\n",
        "        mlp = self.initMlp(netParams)\n",
        "\n",
        "        self.env.render()\n",
        "\n",
        "        actionCounter = 0\n",
        "        totalReward = 0\n",
        "        observation = self.env.reset()\n",
        "        action = int(mlp.predict(observation.reshape(1, -1)) > 0)\n",
        "\n",
        "        while True:\n",
        "            actionCounter += 1\n",
        "            self.env.render()\n",
        "            observation, reward, terminated, truncated, info = self.env.step(action)\n",
        "            totalReward += reward\n",
        "\n",
        "            print(actionCounter, \": --------------------------\")\n",
        "            print(\"action = \", action)\n",
        "            print(\"observation = \", observation)\n",
        "            print(\"reward = \", reward)\n",
        "            print(\"totalReward = \", totalReward)\n",
        "            print(\"terminated = \", terminated)\n",
        "            print(\"truncated = \", truncated)\n",
        "            print()\n",
        "\n",
        "            if terminated or truncated:\n",
        "                break\n",
        "            else:\n",
        "                time.sleep(0.03)\n",
        "                action = int(mlp.predict(observation.reshape(1, -1)) > 0)\n",
        "\n",
        "        self.env.close()"
      ],
      "metadata": {
        "id": "5feRrzzTpTV1"
      },
      "execution_count": null,
      "outputs": []
    },
    {
      "cell_type": "code",
      "source": [
        "def eaSimpleWithElitism(population, toolbox, cxpb, mutpb, ngen, stats=None,\n",
        "             halloffame=None, verbose=__debug__):\n",
        "    \"\"\"This algorithm is similar to DEAP eaSimple() algorithm, with the modification that\n",
        "    halloffame is used to implement an elitism mechanism. The individuals contained in the\n",
        "    halloffame are directly injected into the next generation and are not subject to the\n",
        "    genetic operators of selection, crossover and mutation.\n",
        "    \"\"\"\n",
        "    logbook = tools.Logbook()\n",
        "    logbook.header = ['gen', 'nevals'] + (stats.fields if stats else [])\n",
        "\n",
        "    # Evaluate the individuals with an invalid fitness\n",
        "    invalid_ind = [ind for ind in population if not ind.fitness.valid]\n",
        "    fitnesses = toolbox.map(toolbox.evaluate, invalid_ind)\n",
        "    for ind, fit in zip(invalid_ind, fitnesses):\n",
        "        ind.fitness.values = fit\n",
        "\n",
        "    if halloffame is None:\n",
        "        raise ValueError(\"halloffame parameter must not be empty!\")\n",
        "\n",
        "    halloffame.update(population)\n",
        "    hof_size = len(halloffame.items) if halloffame.items else 0\n",
        "\n",
        "    record = stats.compile(population) if stats else {}\n",
        "    logbook.record(gen=0, nevals=len(invalid_ind), **record)\n",
        "    if verbose:\n",
        "        print(logbook.stream)\n",
        "\n",
        "    # Begin the generational process\n",
        "    for gen in range(1, ngen + 1):\n",
        "\n",
        "        # Select the next generation individuals\n",
        "        offspring = toolbox.select(population, len(population) - hof_size)\n",
        "\n",
        "        # Vary the pool of individuals\n",
        "        offspring = algorithms.varAnd(offspring, toolbox, cxpb, mutpb)\n",
        "\n",
        "        # Evaluate the individuals with an invalid fitness\n",
        "        invalid_ind = [ind for ind in offspring if not ind.fitness.valid]\n",
        "        fitnesses = toolbox.map(toolbox.evaluate, invalid_ind)\n",
        "        for ind, fit in zip(invalid_ind, fitnesses):\n",
        "            ind.fitness.values = fit\n",
        "\n",
        "        # add the best back to population:\n",
        "        offspring.extend(halloffame.items)\n",
        "\n",
        "        # Update the hall of fame with the generated individuals\n",
        "        halloffame.update(offspring)\n",
        "\n",
        "        # Replace the current population by the offspring\n",
        "        population[:] = offspring\n",
        "\n",
        "        # Append the current generation statistics to the logbook\n",
        "        record = stats.compile(population) if stats else {}\n",
        "        logbook.record(gen=gen, nevals=len(invalid_ind), **record)\n",
        "        if verbose:\n",
        "            print(logbook.stream)\n",
        "\n",
        "    return population, logbook\n"
      ],
      "metadata": {
        "id": "3ruf05VPuwd1"
      },
      "execution_count": null,
      "outputs": []
    },
    {
      "cell_type": "code",
      "source": [
        "POPULATION_SIZE = 20\n",
        "P_CROSSOVER = 0.9  # probability for crossover\n",
        "P_MUTATION = 0.5   # probability for mutating an individual\n",
        "MAX_GENERATIONS = 10\n",
        "HALL_OF_FAME_SIZE = 3\n",
        "CROWDING_FACTOR = 10.0  # crowding factor for crossover and mutation\n",
        "\n",
        "# set the random seed:\n",
        "RANDOM_SEED = 42\n",
        "random.seed(RANDOM_SEED)\n",
        "\n",
        "INPUTS = 4\n",
        "HIDDEN_LAYER = 4\n",
        "OUTPUTS = 1\n",
        "\n",
        "\n",
        "cartPole = CartPole(RANDOM_SEED)\n"
      ],
      "metadata": {
        "id": "II1WDGzRp0NK"
      },
      "execution_count": null,
      "outputs": []
    },
    {
      "cell_type": "code",
      "source": [
        "NUM_OF_PARAMS = len(cartPole)\n",
        "# boundaries for layer size parameters:\n",
        "\n",
        "# weight and bias values are bound between -1 and 1:\n",
        "BOUNDS_LOW, BOUNDS_HIGH = -1.0, 1.0  # boundaries for all dimensions\n",
        "\n",
        "toolbox = base.Toolbox()\n",
        "\n",
        "# define a single objective, maximizing fitness strategy:\n",
        "creator.create(\"FitnessMax\", base.Fitness, weights=(1.0,))\n",
        "\n",
        "# create the Individual class based on list:\n",
        "creator.create(\"Individual\", list, fitness=creator.FitnessMax)\n",
        "\n",
        "# helper function for creating random real numbers uniformly distributed within a given range [low, up]\n",
        "# it assumes that the range is the same for every dimension\n",
        "def randomFloat(low, up):\n",
        "    return [random.uniform(l, u) for l, u in zip([low] * NUM_OF_PARAMS, [up] * NUM_OF_PARAMS)]\n",
        "\n",
        "# create an operator that randomly returns a float in the desired range:\n",
        "toolbox.register(\"attrFloat\", randomFloat, BOUNDS_LOW, BOUNDS_HIGH)\n",
        "\n",
        "# create an operator that fills up an Individual instance:\n",
        "toolbox.register(\"individualCreator\",\n",
        "                 tools.initIterate,\n",
        "                 creator.Individual,\n",
        "                 toolbox.attrFloat)\n",
        "\n",
        "# create an operator that generates a list of individuals:\n",
        "toolbox.register(\"populationCreator\",\n",
        "                 tools.initRepeat,\n",
        "                 list,\n",
        "                 toolbox.individualCreator)\n",
        "\n",
        "\n",
        "# fitness calculation using the CrtPole class:\n",
        "def score(individual):\n",
        "    return cartPole.getScore(individual),\n",
        "\n",
        "\n",
        "toolbox.register(\"evaluate\", score)\n",
        "\n",
        "population_test = toolbox.populationCreator(n=10)\n",
        "print(population_test)\n",
        "\n"
      ],
      "metadata": {
        "colab": {
          "base_uri": "https://localhost:8080/"
        },
        "id": "2U8_NTZNrigX",
        "outputId": "3bd02ee1-7ce3-4df2-c861-29ad1cb24319"
      },
      "execution_count": null,
      "outputs": [
        {
          "output_type": "stream",
          "name": "stdout",
          "text": [
            "[[0.2788535969157675, -0.9499784895546661, -0.4499413632617615, -0.5535785237023545, 0.4729424283280248, 0.3533989748458226, 0.7843591354096908, -0.8261223347411677, -0.15615636062945915, -0.9404055611238593, -0.5627240503927933, 0.010710576206724776, -0.9469280606322728, -0.602324698626703, 0.2997688755590464, 0.08988296120643335, -0.5591187559186066, 0.17853136775181744, 0.6188609133556533, -0.987002480643878, 0.6116385036656158, 0.3962787899764537, -0.31949896696401625, -0.6890410003764369, 0.9144261444135624], [-0.32681090977474647, -0.8145083132397042, -0.806567246333072, 0.6949887326949196, 0.20745206273378214, 0.6142565465487604, 0.45946357338763577, 0.07245618290940148, 0.9462315279587412, -0.24293124558329304, 0.104081262546454, 0.6588093285059897, 0.2370395047284921, 0.7234138006215545, 0.15470429051352408, 0.40914367242984695, -0.9083512326886756, -0.5442034486969063, -0.42122407279578566, -0.840416046152745, -0.5344182272779396, -0.7979971411805418, -0.44405279377981577, 0.27136888852880037, -0.2703356420598315], [-0.2596380657662347, -0.5809859384570246, -0.4660443559017733, 0.873309175424988, 0.2960707704931871, 0.21826201133397638, -0.657722703603806, 0.45825359590069836, -0.6731950124761432, -0.24108911648470444, 0.9790467012731905, 0.2799995197081857, 0.11389948754929247, 0.3692285019797492, 0.6857038403796192, 0.5519998230924896, -0.5419038560717913, -0.9357995121919245, -0.36909390388183616, -0.46451824804859454, -0.5780343128273471, 0.8858194286701089, 0.7527352529453377, -0.37064423840304417, 0.3108773305897601], [-0.20873619787867148, 0.829095179481087, -0.0822962948252024, -0.4702396670038951, -0.5067449846120331, 0.12273626832630158, -0.47451678295412947, 0.16917198044708104, 0.795645767204954, -0.20119898971920547, -0.5613584816854333, 0.9950752129902205, 0.01905258735292903, -0.8181811756524122, -0.9057672491505309, -0.7807017392986817, 0.2548920834061801, 0.5841587287259282, -0.15568006640063192, -0.8729445876960857, -0.23676142698692648, 0.9922427604801936, 0.058228690198274036, 0.9421567552272363, 0.7215594044689961], [-0.9770379561143607, 0.4414436387203893, 0.36342073805314956, 0.07394066081759032, -0.46634962009491443, 0.2819235971596161, -0.7768956528082471, -0.13046949866179003, -0.09255258734158711, 0.9076318550421603, 0.7517058807563881, -0.4732218984978185, 0.0011722261005966406, -0.6426962389397373, 0.825255678689641, 0.7410371396735338, -0.4031104171027342, 0.2778989897320103, 0.21794042287634463, -0.6943214629007304, 0.5250216001503025, 0.07875806023925147, 0.5572529572611165, 0.06070734439035497, -0.998856207744113], [-0.3516878859906538, -0.9610465152283354, 0.8581972325292342, 0.7574437556463685, 0.6633310587223589, -0.38497174919467714, -0.8841496670116249, 0.7560191984080811, 0.8938988905959881, -0.8286930958642424, -0.02801907336677245, -0.8615749630632328, 0.5212043305144631, 0.5316688586139755, -0.7432170710004744, -0.04943524380253739, 0.0996071869898878, -0.4698867421198818, 0.7448660821705149, -0.15372411959822618, -0.5764035891158359, 0.07859217755891668, 0.45986213817995236, -0.5976978732206082, -0.3765674173982101], [0.9902987133217893, 0.299756115278907, -0.12379983217099189, 0.035151682071181245, -0.7579916082634686, -0.5506053259368853, -0.32382887570508934, 0.17661743691446663, -0.539770534806846, -0.559565231096881, -0.8580138279819349, 0.2622059145401978, -0.5421164323776912, 0.8108400260122559, 0.719270800507493, -0.8582853002226931, -0.5239907312620096, 0.33795555659256116, -0.5715263852591228, -0.73537630254995, 0.871028481161342, 0.14208618665056894, -0.05465794737641172, 0.5692388485815068, 0.6149939955332868], [-0.6191801712762446, -0.8061383715423533, -0.13789763518724496, -0.15284275396015845, -0.06595066392665005, 0.4581516989197012, 0.34672909458660306, 0.9683304227319323, -0.8031642576960822, -0.19475743579546245, -0.3213947892100737, 0.7233450727055821, -0.5026873321594287, -0.619582183118377, -0.1027729043337362, -0.15623672033119163, -0.44290971066611906, -0.500387104235799, 0.8465311985520256, -0.11373850989308609, 0.7226982095236612, 0.10065062489969612, -0.8988233409502375, 0.9985649368254532, 0.6720551701599038], [0.9379925145695025, 0.8527339660162552, 0.6973914688286109, -0.667377778792172, -0.02871774909856306, -0.5725054016016367, -0.19791941490109477, -0.8827292000556421, -0.2420537620461678, 0.9706176875594519, -0.4695938836556961, 0.5681412038971387, -0.08998326532171341, -0.15398502801967417, 0.9146352817193464, 0.9908453789854277, 0.11153664681123643, 0.436816550592652, -0.6904063494518717, -0.4065843490108716, 0.9374187299383177, 0.15836058163251243, 0.08439040274854848, 0.4959511207581282, -0.8856694541850338], [0.16835518891794243, 0.005700765839027122, 0.7054397840965707, -0.6851345441210335, 0.9215578065489007, -0.8397770695188262, -0.6283500780385536, 0.19007021290005532, 0.3504251072081803, -0.5295922099981376, -0.7602267721057516, 0.780574628258875, -0.5075693044227503, 0.1890383070668824, 0.23876302066420618, -0.16155016932825506, 0.16734457858244944, 0.04556543106391775, 0.8694125154728545, -0.5914816011529271, 0.4323836015788296, -0.522628094768308, -0.208428306417491, 0.34338044591994255, -0.40000584040247555]]\n"
          ]
        },
        {
          "output_type": "stream",
          "name": "stderr",
          "text": [
            "/usr/local/lib/python3.11/dist-packages/deap/creator.py:185: RuntimeWarning: A class named 'Individual' has already been created and it will be overwritten. Consider deleting previous creation of that class or rename it.\n",
            "  warnings.warn(\"A class named '{0}' has already been created and it \"\n"
          ]
        }
      ]
    },
    {
      "cell_type": "code",
      "source": [
        "toolbox.register(\"select\", tools.selTournament, tournsize=2)\n",
        "\n",
        "toolbox.register(\"mate\",\n",
        "                 tools.cxSimulatedBinaryBounded,\n",
        "                 low=BOUNDS_LOW,\n",
        "                 up=BOUNDS_HIGH,\n",
        "                 eta=CROWDING_FACTOR)\n",
        "\n",
        "\n",
        "toolbox.register(\"mutate\",\n",
        "                 tools.mutPolynomialBounded,\n",
        "                 low=BOUNDS_LOW,\n",
        "                 up=BOUNDS_HIGH,\n",
        "                 eta=CROWDING_FACTOR,\n",
        "                 indpb=1.0/NUM_OF_PARAMS)\n",
        "\n"
      ],
      "metadata": {
        "id": "1qQLJk5aueYx"
      },
      "execution_count": null,
      "outputs": []
    },
    {
      "cell_type": "code",
      "source": [
        "def main():\n",
        "\n",
        "    # create initial population (generation 0):\n",
        "    population = toolbox.populationCreator(n=POPULATION_SIZE)\n",
        "\n",
        "    # prepare the statistics object:\n",
        "    stats = tools.Statistics(lambda ind: ind.fitness.values)\n",
        "    stats.register(\"max\", np.max)\n",
        "    stats.register(\"avg\", np.mean)\n",
        "\n",
        "    # define the hall-of-fame object:\n",
        "    hof = tools.HallOfFame(HALL_OF_FAME_SIZE)\n",
        "\n",
        "    # perform the Genetic Algorithm flow with hof feature added:\n",
        "    population, logbook = eaSimpleWithElitism(population,\n",
        "                                                      toolbox,\n",
        "                                                      cxpb=P_CROSSOVER,\n",
        "                                                      mutpb=P_MUTATION,\n",
        "                                                      ngen=MAX_GENERATIONS,\n",
        "                                                      stats=stats,\n",
        "                                                      halloffame=hof,\n",
        "                                                      verbose=True)\n",
        "\n",
        "    # print best solution found:\n",
        "    best = hof.items[0]\n",
        "    print()\n",
        "    print(\"Best Solution = \", best)\n",
        "    print(\"Best Score = \", best.fitness.values[0])\n",
        "    print()\n",
        "\n",
        "    # save best solution for a replay:\n",
        "    cartPole.saveParams(best)\n",
        "\n",
        "    # find average score of 100 episodes using the best solution found:\n",
        "    print(\"Running 100 episodes using the best solution...\")\n",
        "    scores = []\n",
        "    for test in range(100):\n",
        "        scores.append(CartPole().getScore(best))\n",
        "    print(\"scores = \", scores)\n",
        "    print(\"Avg. score = \", sum(scores) / len(scores))"
      ],
      "metadata": {
        "id": "QvsG2oyZujsx"
      },
      "execution_count": null,
      "outputs": []
    },
    {
      "cell_type": "code",
      "source": [
        "main()"
      ],
      "metadata": {
        "id": "4IQX8x1Eu2xd",
        "colab": {
          "base_uri": "https://localhost:8080/"
        },
        "outputId": "e1c67136-ca16-483b-f68e-9170e603dcfc"
      },
      "execution_count": null,
      "outputs": [
        {
          "output_type": "stream",
          "name": "stdout",
          "text": [
            "gen\tnevals\tmax\tavg  \n",
            "0  \t20    \t43 \t12.15\n",
            "1  \t17    \t43 \t12.65\n",
            "2  \t16    \t58 \t18.7 \n",
            "3  \t14    \t237\t33.55\n",
            "4  \t15    \t237\t49.75\n",
            "5  \t14    \t500\t106.6\n",
            "6  \t17    \t237\t74.75\n",
            "7  \t15    \t500\t106.95\n",
            "8  \t16    \t500\t154.5 \n",
            "9  \t16    \t500\t163.2 \n",
            "10 \t16    \t500\t206.1 \n",
            "\n",
            "Best Solution =  [0.6130654930683185, -0.7134655882081957, -0.7705681528448636, 0.9535119248563795, 0.5208146893095162, -0.05504963480545966, -0.6979945316724185, -0.863748431016116, 0.06417814957311774, -0.9310388305294168, -0.8643873140423275, 0.25154840233470943, -0.3064245073944085, -0.5574234817667543, -0.19644161504343294, -0.557133226567631, -0.7777507488459608, -0.35242256773426484, -0.39261779667873065, -0.6174282061754452, -0.010978643958111212, 0.08453718435504687, -0.32977783093668955, 0.3523748655790124, 0.2530372437846518]\n",
            "Best Score =  500.0\n",
            "\n",
            "Running 100 episodes using the best solution...\n",
            "scores =  [76.0, 123.0, 12.0, 500.0, 60.0, 500.0, 26.0, 172.0, 87.0, 500.0, 252.0, 500.0, 30.0, 94.0, 500.0, 500.0, 500.0, 118.0, 50.0, 500.0, 66.0, 433.0, 100.0, 10.0, 500.0, 500.0, 500.0, 500.0, 500.0, 500.0, 27.0, 500.0, 87.0, 500.0, 169.0, 16.0, 500.0, 92.0, 17.0, 82.0, 500.0, 500.0, 11.0, 16.0, 500.0, 28.0, 500.0, 500.0, 18.0, 20.0, 13.0, 93.0, 500.0, 500.0, 110.0, 100.0, 14.0, 81.0, 500.0, 171.0, 101.0, 82.0, 500.0, 500.0, 193.0, 15.0, 54.0, 97.0, 500.0, 151.0, 161.0, 500.0, 102.0, 500.0, 69.0, 500.0, 25.0, 500.0, 133.0, 17.0, 500.0, 500.0, 78.0, 99.0, 500.0, 500.0, 500.0, 500.0, 244.0, 54.0, 82.0, 500.0, 10.0, 500.0, 500.0, 317.0, 9.0, 500.0, 500.0, 10.0]\n",
            "Avg. score =  264.77\n"
          ]
        }
      ]
    },
    {
      "cell_type": "code",
      "source": [
        "def undx(population, alpha, beta, lower_bound, upper_bound):\n",
        "  candidates = random.sample(population, 3)\n",
        "  candidates = np.array(candidates)\n",
        "\n",
        "  vector12 = candidates[1] - candidates[0]\n",
        "  origin_12 = (candidates[0] + candidates[1]) / 2\n",
        "  norm12 = np.linalg.norm(vector12, ord=2)\n",
        "\n",
        "  sigma1 = alpha * norm12\n",
        "\n",
        "  vector13 = candidates[2] - candidates[0]\n",
        "  dot12_13 = np.dot(vector12, vector13)\n",
        "  vertical13 = vector13 - (dot12_13 / (np.linalg.norm(vector12, ord=2) + 1e-10) ** 2) * vector12\n",
        "\n",
        "  norm_vertical13 = np.linalg.norm(vertical13, ord=2)\n",
        "  sigma2 = beta * norm_vertical13 / len(candidates[0])\n",
        "\n",
        "  noise_horizontal = np.random.normal(0, sigma1, len(candidates[0]))\n",
        "  noise_vertical = np.random.normal(0, sigma2,len(candidates[0]))\n",
        "\n",
        "\n",
        "  noised_child = origin_12 + noise_horizontal + noise_vertical\n",
        "\n",
        "  noise_child = np.clip(noised_child, lower_bound, upper_bound)\n",
        "\n",
        "\n",
        "  return noised_child\n",
        "\n",
        "\n",
        "def undx_population(population, alpha, beta, lower_bound, upper_bound, cxpb):\n",
        "  offspring = []\n",
        "  population_clone = population.copy()\n",
        "\n",
        "  while len(offspring) < len(population):\n",
        "    prob = random.random()\n",
        "\n",
        "    if prob <= cxpb:\n",
        "      child = undx(population, alpha, beta, lower_bound, upper_bound)\n",
        "      child = creator.Individual(child)\n",
        "      offspring.append(child)\n",
        "    else:\n",
        "      candidate = random.choice(population_clone)\n",
        "      child = toolbox.clone(candidate)\n",
        "      offspring.append(child)\n",
        "      population_clone.remove(candidate)\n",
        "\n",
        "  return offspring\n",
        "\n",
        "\n",
        "\n",
        "toolbox.register(\"select\", tools.selTournament, tournsize=2)\n",
        "\n",
        "\n",
        "toolbox.register(\"mutate\",\n",
        "                 tools.mutPolynomialBounded,\n",
        "                 low=BOUNDS_LOW,\n",
        "                 up=BOUNDS_HIGH,\n",
        "                 eta=CROWDING_FACTOR,\n",
        "                 indpb=1.0/NUM_OF_PARAMS)\n",
        "\n",
        "toolbox.register(\"mate\",\n",
        "                 undx_population,\n",
        "                 alpha=0.5,\n",
        "                 beta=0.35,\n",
        "                 lower_bound=BOUNDS_LOW,\n",
        "                 upper_bound=BOUNDS_HIGH,\n",
        "                 cxpb=P_CROSSOVER\n",
        "                 )\n",
        "\n"
      ],
      "metadata": {
        "id": "FsPci2r3fVZj"
      },
      "execution_count": null,
      "outputs": []
    },
    {
      "cell_type": "code",
      "source": [
        "population_test = toolbox.populationCreator(n=10)\n",
        "print(population_test)\n",
        "print(len(population_test))\n",
        "\n",
        "offspring = toolbox.mate(population_test)\n",
        "print(offspring)\n",
        "print(len(offspring))"
      ],
      "metadata": {
        "colab": {
          "base_uri": "https://localhost:8080/"
        },
        "id": "zyz-dT3bf5v3",
        "outputId": "11a15dfe-0da3-4324-8c89-585a00c6c867"
      },
      "execution_count": null,
      "outputs": [
        {
          "output_type": "stream",
          "name": "stdout",
          "text": [
            "[[0.13619964101817295, -0.28586329003099586, 0.5797078144136181, -0.7686196699550452, -0.24033829137418694, -0.5078013331757878, 0.9130375933474699, 0.22688864234965034, 0.3200492729846227, 0.676638327659042, 0.8220271056888131, -0.056926422027363754, -0.6365784636596481, -0.9436539284101082, -0.6831840940609237, 0.1890026840839416, 0.9935369307653503, 0.3003138360114441, -0.18028153472116615, -0.31376914807986345, -0.5012519911678841, -0.6458216529899834, -0.8355863932116183, 0.6144758649898681, -0.48715050416159644], [0.634000431072643, 0.36591530460430177, -0.8469132030760957, 0.7866026923782095, 0.24690368770325133, 0.39313571843247375, 0.917799263429488, -0.3533403778879942, 0.783287334512736, -0.33047578431050173, 0.7443847778161656, 0.2696269738532022, -0.4007738171578239, 0.6564709732771066, -0.914292604099022, -0.25339004452028036, -0.7511205518622188, -0.6221812416720567, 0.12043302576039627, -0.9975551644657714, -0.019170090852242527, -0.5720135717351353, -0.4718824752761437, -0.026787200276577217, -0.5829387542274493], [-0.7313581863995355, 0.7144301311539132, 0.7447249606616584, -0.47340575406312935, -0.48167388623308827, -0.4588236145185287, -0.7678815196623126, 0.5099556532354892, -0.5401665331128587, -0.3660229475163381, -0.5771707754348963, -0.956784522900813, -0.17647711075644645, 0.5945755548015772, -0.1632218287095859, -0.19573612123537476, 0.39034504825132266, 0.7211272108173776, 0.3185512700716713, 0.2136243377133633, 0.9303800566800744, 0.8397319317399528, 0.1393356051102339, -0.6537335737696841, 0.0731621051360869], [0.7163924616309942, 0.8769689591775252, 0.018295026635300138, 0.5305215309504034, 0.7423375296577968, 0.5087976002829719, -0.29879000616243756, 0.7113572464423159, -0.525741028321413, 0.6628653074341897, -0.3426974484676486, 0.49723321039612056, -0.09265100753628053, 0.691716603800058, -0.7534282437933573, -0.46823589670261767, -0.6069080230403994, 0.28360699069254425, -0.15036352267795672, 0.10559159457468281, 0.11990131415604499, -0.7603637011522624, -0.7886833286649144, -0.23250508548105198, 0.6642008099073309], [-0.45802176332980915, 0.44168659695486134, 0.657999799178761, -0.5938098534186651, 0.8942220540086117, 0.18129523849303708, 0.5200133699583627, 0.8022917220742369, 0.01451425989594557, -0.5889071442428722, -0.06021344001311868, 0.30379914861042634, -0.28171153423487283, 0.023938569760988404, 0.4645961855953398, -0.5711018829836998, -0.4320706313702325, -0.05020733997960214, -0.9721508796602474, -0.49786221840540934, -0.5349036497256141, -0.9831425159418159, -0.9750872459607027, 0.8262886272775691, 0.88415913211575], [-0.30178676258025505, 0.025302169112930484, 0.27383118679147445, -0.16173771069460186, -0.9536158861772761, 0.08990220915848446, -0.20820399920284371, -0.3026383628769611, 0.5750486130544354, 0.9397768682169798, 0.8476593980486105, -0.864359845888484, 0.6947647954581033, 0.7247128914280343, -0.5347124800914724, -0.8300149647710755, -0.9302995842075175, 0.30474572414308, -0.09957950619123457, -0.7320989816289722, -0.46293810370621213, -0.4410030533926972, -0.9606394759327606, 0.4145521922430586, -0.01050416097839113], [0.18313027678229887, 0.4083089869038967, -0.800590432211367, -0.5698170489138212, -0.4585548136944859, 0.9956612703320846, -0.519603955146839, 0.10167660777638177, -0.8494332870915946, 0.2427683097529587, 0.4291739853639249, -0.3808672413410146, 0.9095029925449456, 0.84719385421936, -0.7116032279930584, -0.4459043064119499, 0.9042360255959048, -0.9436774464341744, 0.4603795667794153, 0.11604187599822047, -0.6979532875953793, -0.22045081879252826, -0.48848135969713113, 0.8666036512603796, -0.1862523227231787], [-0.6333355132124414, -0.2536113846580892, 0.9837115629912749, 0.6839638098857894, 0.5869018456958692, -0.6289556579349547, -0.9720224400607538, 0.6647634638856932, 0.3877944297445739, 0.3468979032931465, -0.6552173134801387, -0.8006424440759079, 0.06713880342896594, 0.2437139310183778, -0.9291079313692614, -0.38904247607928655, 0.051680928939896065, -0.801566471345093, -0.23703500307929182, -0.899478964881731, -0.9760015882654596, 0.09231068788999752, -0.10269837536724569, 0.305595430282283, -0.8878189037106916], [0.8599341385282042, 0.558072060870348, -0.9364049346065997, -0.32955766052852886, 0.5848449950880661, -0.2181525395324453, 0.6051752927020873, 0.4428834041288785, -0.8598431114667471, -0.27921805982896886, -0.18145968081897235, 0.08740272497225376, -0.9376454649869146, -0.3220716943614732, -0.048407843635750014, -0.37402303472123943, -0.8801350132259773, -0.010134350606873621, -0.72687701383921, 0.91062991019996, 0.12617160328770938, -0.9753514822423928, 0.5970601210205981, -0.5676242319444429, -0.07704174385256723], [-0.6209868825579401, 0.5573847000987422, 0.30869699197219314, -0.6566696441136644, -0.812951622766896, -0.5916122862616799, 0.6259938535194804, 0.1327432549187011, 0.48648881181055437, -0.05477200620473188, -0.8488589874642198, -0.22030488408186644, -0.7149299057478031, -0.7600994106389327, 0.6085299525205405, -0.4922283542720476, 0.740277557403584, 0.4198904450755414, -0.4413445034104362, -0.18497464370210204, -0.776250675338602, -0.008044077292690632, 0.13895884405350478, 0.09431530248735953, 0.98562000638862]]\n",
            "10\n",
            "[[-1.3129191228895543, -0.4164076944749776, -2.526037891362151, -1.7911748273586796, 3.352132979097035, -0.18857476563027473, -4.261297851961001, 1.204063472822212, 5.9903303166815665, 2.555192447046862, -4.745926863827494, 1.0866964386364253, -2.514379843037594, 0.362333709292741, 0.04126723390902599, -2.2760730478788105, 3.2990998790549955, 3.308780162107463, -1.4372573561845057, 4.054427162848996, 3.285473348609607, 0.23647171030129166, 0.5703757936755548, -0.2022209919361488, -0.8708821210457756], [0.3933874086268369, 3.2890938170053747, -2.678289893865198, -1.49043620617768, 3.527562584255913, -2.692616373099162, -2.4736118583556856, -1.316882409327606, -0.3595642898438338, 0.9446728444514134, 1.5472495202042458, 0.6817669689355279, 0.06437312132858856, 1.9646392587112247, -0.2339215799852262, -1.7420675551242342, -2.85282951405034, 2.01753520771102, -1.9059447030962249, 0.3093734758676044, 0.07246964867712745, 0.07208475584650177, -0.9375577352204408, 1.3238839241451343, 0.787880356183296], [-1.3769552072955111, 2.6862528993361656, 0.6897345727672418, -0.04003336001451192, -0.7516837501143394, -3.269164654028971, -0.06862967020372218, 2.1885342227671214, 0.797163435911796, -0.25164778479053307, -2.3325254643287674, -1.2106779756534776, 0.9110801454673679, -0.3084774015623512, 0.47032108585917165, -2.0841405958777606, -0.3837205340750432, -0.24161726488557694, 0.029768921446620952, -1.0520808093200384, 0.546821329414043, -1.427295730004197, 1.0242195300427683, 1.1166752226666266, 0.6488971474983443], [-2.2626688403493866, -1.4285769754330053, -0.8308694139713375, -1.1812688186485314, -0.2773769806381743, -0.5789946107285789, 1.6587214880979184, 0.7768668776997629, -1.1759910562723892, 0.1423817523830023, 3.064171971357607, -2.9120099441596383, -1.7541348384277087, -0.8198305377554511, -4.037629352935342, -0.541225716769744, 1.4336990572014683, 1.4819701909649707, 3.268709272802736, -7.240509178095808, 3.3402937645093607, -1.1616974852352477, 1.886598904442696, 2.113632609131264, 2.0750062270848058], [4.712869909056537, 2.718578181841979, 1.0764660180927188, -3.290961601061011, -3.257936643176043, -4.034073240066009, -3.1989178075840905, -5.8584145790601205, -6.83497464303649, 5.427373685942053, 4.0059875839429475, 1.0864859058692173, 0.2104946156231162, 2.1374391238902177, 1.2812296550460867, -4.23713568627163, -0.6125680249590262, -0.367452719393703, -4.020407246887381, 1.3789743490514725, 0.8030148518713552, -1.0588709278948008, 0.829541974285746, 2.6795888401502745, -0.620200148047481], [-0.45802176332980915, 0.44168659695486134, 0.657999799178761, -0.5938098534186651, 0.8942220540086117, 0.18129523849303708, 0.5200133699583627, 0.8022917220742369, 0.01451425989594557, -0.5889071442428722, -0.06021344001311868, 0.30379914861042634, -0.28171153423487283, 0.023938569760988404, 0.4645961855953398, -0.5711018829836998, -0.4320706313702325, -0.05020733997960214, -0.9721508796602474, -0.49786221840540934, -0.5349036497256141, -0.9831425159418159, -0.9750872459607027, 0.8262886272775691, 0.88415913211575], [0.6915574576300474, -0.2466331456260735, 0.26498872439360355, 2.4420815073969093, 3.5137385532828493, -0.301275118841925, -2.900912872950345, -0.24839217718451487, 1.1305130991765089, 0.2210225050345623, 4.431242171902203, -1.418419501174774, -0.9805580836386881, -0.07542440683968588, -3.1600474808371555, -2.9710075202320634, 0.19737810699086816, 0.9960275029383897, -0.5983516027424886, 3.2031513639887286, 0.649167483148938, 1.725528857569049, 1.5630069862937908, -0.3542137053599782, 2.6342772721695824], [-0.0025953356597918503, -0.3143291087967324, 1.0133333813076155, 0.2318443757175411, 0.6357988786723243, 0.14393705874326634, -1.4887686982162378, -1.398176770356683, -0.18739448359399588, 0.6126595178960983, 2.171509539909892, -4.033387824686247, -2.3780845563394553, 0.5210414873643929, -1.9973681723243075, 0.8270588127456029, 6.387088504213739, -1.101765843578905, -1.6566798700321843, 0.4085806443162338, -1.134667876960281, -2.1175481971448264, 0.31452153914126735, -1.6425450652665288, -3.8105679291112535], [1.2505644374847895, -1.480457162870864, -0.5667053686200656, -1.9570000837311863, 1.9157688498002219, -3.9878271779640873, 2.239473399203175, 3.1629913117548707, 0.25967210978646205, 0.26091582846265, 1.9283739159971143, 0.6481227479243168, -0.9815303198371144, 1.9555519762213873, 0.6739900025728548, -0.028791280740512182, 1.4051183263522198, -4.5946821782758365, 2.1014834759966057, 0.9412369044507524, 3.9172724853429193, -2.6038156990235675, -0.9479448823992946, 0.26048990932045324, 2.4324300905475313], [-2.1099363417285817, 5.300889073962763, 5.247277828557856, 1.8285073701291876, -0.24176188197721143, 2.02476657576819, -3.818818782428205, -1.107797371996135, -3.397145695128855, -3.2478525160248295, -0.331587785824369, -0.8394451612630442, -3.8973398011970737, -0.7003416474220127, -2.036013974222499, -3.0953597198608125, -2.574926033458467, 3.896429677131015, -0.9936014374493852, 0.8760631526417522, -1.9975363632434664, -1.6841517006001885, -0.7022126435171318, 3.5117461592060395, 3.9452523540914077]]\n",
            "10\n"
          ]
        }
      ]
    },
    {
      "cell_type": "code",
      "source": [
        "def eaSimpleWithElitism_undx(population, toolbox, mutpb, ngen, stats=None,\n",
        "             halloffame=None, verbose=__debug__):\n",
        "    \"\"\"This algorithm is similar to DEAP eaSimple() algorithm, with the modification that\n",
        "    halloffame is used to implement an elitism mechanism. The individuals contained in the\n",
        "    halloffame are directly injected into the next generation and are not subject to the\n",
        "    genetic operators of selection, crossover and mutation.\n",
        "    \"\"\"\n",
        "    logbook = tools.Logbook()\n",
        "    logbook.header = ['gen', 'nevals'] + (stats.fields if stats else [])\n",
        "\n",
        "    # Evaluate the individuals with an invalid fitness\n",
        "    invalid_ind = [ind for ind in population if not ind.fitness.valid]\n",
        "    fitnesses = toolbox.map(toolbox.evaluate, invalid_ind)\n",
        "    for ind, fit in zip(invalid_ind, fitnesses):\n",
        "        ind.fitness.values = fit\n",
        "\n",
        "    if halloffame is None:\n",
        "        raise ValueError(\"halloffame parameter must not be empty!\")\n",
        "\n",
        "    halloffame.update(population)\n",
        "    hof_size = len(halloffame.items) if halloffame.items else 0\n",
        "\n",
        "    record = stats.compile(population) if stats else {}\n",
        "    logbook.record(gen=0, nevals=len(invalid_ind), **record)\n",
        "    if verbose:\n",
        "        print(logbook.stream)\n",
        "\n",
        "    # Begin the generational process\n",
        "    for gen in range(1, ngen + 1):\n",
        "\n",
        "        # Select the next generation individuals\n",
        "        offspring = toolbox.select(population, len(population) - hof_size)\n",
        "\n",
        "        # # Vary the pool of individuals\n",
        "        # offspring = algorithms.varAnd(offspring, toolbox, cxpb, mutpb)\n",
        "\n",
        "        #crossover\n",
        "        offspring = toolbox.mate(offspring)\n",
        "\n",
        "        #mutation\n",
        "        for child in offspring:\n",
        "          if random.random() < mutpb:\n",
        "            toolbox.mutate(child)\n",
        "            del child.fitness.values\n",
        "\n",
        "        # Evaluate the individuals with an invalid fitness\n",
        "        invalid_ind = [ind for ind in offspring if not ind.fitness.valid]\n",
        "        fitnesses = toolbox.map(toolbox.evaluate, invalid_ind)\n",
        "        for ind, fit in zip(invalid_ind, fitnesses):\n",
        "            ind.fitness.values = fit\n",
        "\n",
        "        # add the best back to population:\n",
        "        offspring.extend(halloffame.items)\n",
        "\n",
        "        # Update the hall of fame with the generated individuals\n",
        "        halloffame.update(offspring)\n",
        "\n",
        "        # Replace the current population by the offspring\n",
        "        population[:] = offspring\n",
        "\n",
        "        # Append the current generation statistics to the logbook\n",
        "        record = stats.compile(population) if stats else {}\n",
        "        logbook.record(gen=gen, nevals=len(invalid_ind), **record)\n",
        "        if verbose:\n",
        "            print(logbook.stream)\n",
        "\n",
        "    return population, logbook"
      ],
      "metadata": {
        "id": "b69MUqjbXI_s"
      },
      "execution_count": null,
      "outputs": []
    },
    {
      "cell_type": "code",
      "source": [
        "def main_undx():\n",
        "\n",
        "    # create initial population (generation 0):\n",
        "    population = toolbox.populationCreator(n=POPULATION_SIZE)\n",
        "\n",
        "    # prepare the statistics object:\n",
        "    stats = tools.Statistics(lambda ind: ind.fitness.values)\n",
        "    stats.register(\"max\", np.max)\n",
        "    stats.register(\"avg\", np.mean)\n",
        "\n",
        "    # define the hall-of-fame object:\n",
        "    hof = tools.HallOfFame(HALL_OF_FAME_SIZE)\n",
        "\n",
        "    # perform the Genetic Algorithm flow with hof feature added:\n",
        "    population, logbook = eaSimpleWithElitism_undx(population,\n",
        "                                                      toolbox,\n",
        "                                                      mutpb=P_MUTATION,\n",
        "                                                      ngen=MAX_GENERATIONS,\n",
        "                                                      stats=stats,\n",
        "                                                      halloffame=hof,\n",
        "                                                      verbose=True)\n",
        "\n",
        "    # print best solution found:\n",
        "    best = hof.items[0]\n",
        "    print()\n",
        "    print(\"Best Solution = \", best)\n",
        "    print(\"Best Score = \", best.fitness.values[0])\n",
        "    print()\n",
        "\n",
        "    # save best solution for a replay:\n",
        "    cartPole.saveParams(best)\n",
        "\n",
        "    # find average score of 100 episodes using the best solution found:\n",
        "    print(\"Running 100 episodes using the best solution...\")\n",
        "    scores = []\n",
        "    for test in range(100):\n",
        "        scores.append(CartPole().getScore(best))\n",
        "    print(\"scores = \", scores)\n",
        "    print(\"Avg. score = \", sum(scores) / len(scores))"
      ],
      "metadata": {
        "id": "DNORw5f8i6Tz"
      },
      "execution_count": null,
      "outputs": []
    },
    {
      "cell_type": "code",
      "source": [
        "main_undx()"
      ],
      "metadata": {
        "colab": {
          "base_uri": "https://localhost:8080/"
        },
        "id": "UztZ0epljNpX",
        "outputId": "c22db41b-b035-4bbb-916c-c994126cb2e3"
      },
      "execution_count": null,
      "outputs": [
        {
          "output_type": "stream",
          "name": "stdout",
          "text": [
            "gen\tnevals\tmax\tavg \n",
            "0  \t20    \t43 \t12.3\n",
            "1  \t14    \t266\t28.2\n"
          ]
        },
        {
          "output_type": "stream",
          "name": "stderr",
          "text": [
            "/usr/local/lib/python3.11/dist-packages/deap/tools/mutation.py:86: RuntimeWarning: invalid value encountered in double_scalars\n",
            "  delta_q = val ** mut_pow - 1.0\n",
            "/usr/local/lib/python3.11/dist-packages/deap/tools/mutation.py:86: RuntimeWarning: invalid value encountered in double_scalars\n",
            "  delta_q = val ** mut_pow - 1.0\n"
          ]
        },
        {
          "output_type": "stream",
          "name": "stdout",
          "text": [
            "2  \t15    \t266\t47.5\n",
            "3  \t14    \t266\t33.55\n",
            "4  \t15    \t266\t35.4 \n"
          ]
        },
        {
          "output_type": "stream",
          "name": "stderr",
          "text": [
            "/usr/local/lib/python3.11/dist-packages/deap/tools/mutation.py:86: RuntimeWarning: invalid value encountered in double_scalars\n",
            "  delta_q = val ** mut_pow - 1.0\n",
            "/usr/local/lib/python3.11/dist-packages/deap/tools/mutation.py:90: RuntimeWarning: invalid value encountered in double_scalars\n",
            "  delta_q = 1.0 - val ** mut_pow\n"
          ]
        },
        {
          "output_type": "stream",
          "name": "stdout",
          "text": [
            "5  \t16    \t266\t34.8 \n",
            "6  \t15    \t266\t35.55\n",
            "7  \t17    \t266\t35.05\n"
          ]
        },
        {
          "output_type": "stream",
          "name": "stderr",
          "text": [
            "/usr/local/lib/python3.11/dist-packages/deap/tools/mutation.py:86: RuntimeWarning: invalid value encountered in double_scalars\n",
            "  delta_q = val ** mut_pow - 1.0\n",
            "/usr/local/lib/python3.11/dist-packages/deap/tools/mutation.py:90: RuntimeWarning: invalid value encountered in double_scalars\n",
            "  delta_q = 1.0 - val ** mut_pow\n",
            "/usr/local/lib/python3.11/dist-packages/deap/tools/mutation.py:86: RuntimeWarning: invalid value encountered in double_scalars\n",
            "  delta_q = val ** mut_pow - 1.0\n"
          ]
        },
        {
          "output_type": "stream",
          "name": "stdout",
          "text": [
            "8  \t16    \t266\t31.2 \n",
            "9  \t15    \t266\t44.2 \n"
          ]
        },
        {
          "output_type": "stream",
          "name": "stderr",
          "text": [
            "/usr/local/lib/python3.11/dist-packages/deap/tools/mutation.py:86: RuntimeWarning: invalid value encountered in double_scalars\n",
            "  delta_q = val ** mut_pow - 1.0\n"
          ]
        },
        {
          "output_type": "stream",
          "name": "stdout",
          "text": [
            "10 \t17    \t266\t49.25\n",
            "\n",
            "Best Solution =  [-0.6761697654550975, -0.9241002389559669, -0.5107769617737523, 0.1691963370624177, 0.9025677041923473, 0.6552817713590952, -0.02748278249919712, -0.14713559719277217, 0.49731143078841, 0.25841217338542644, 0.45803355884780245, -0.0457841571488374, -0.666068746910607, 0.4797296577677943, -0.35481206396258075, 0.2890527457880257, -0.49770121568210984, 0.7690072815364849, 0.5829020864866526, 0.3295670760092718, -0.016188061809456727, -0.007192242686795526, 0.13749377953309938, 0.8290962456207901, -0.3459943225527927]\n",
            "Best Score =  266.0\n",
            "\n",
            "Running 100 episodes using the best solution...\n",
            "scores =  [179.0, 95.0, 108.0, 64.0, 85.0, 113.0, 99.0, 79.0, 95.0, 78.0, 90.0, 78.0, 74.0, 93.0, 145.0, 85.0, 107.0, 91.0, 100.0, 176.0, 83.0, 128.0, 72.0, 53.0, 107.0, 78.0, 74.0, 78.0, 82.0, 126.0, 153.0, 96.0, 164.0, 71.0, 62.0, 112.0, 63.0, 62.0, 142.0, 89.0, 93.0, 64.0, 96.0, 92.0, 99.0, 76.0, 99.0, 82.0, 192.0, 93.0, 90.0, 155.0, 70.0, 107.0, 91.0, 97.0, 104.0, 122.0, 90.0, 103.0, 179.0, 62.0, 86.0, 97.0, 66.0, 56.0, 60.0, 83.0, 94.0, 68.0, 56.0, 144.0, 117.0, 66.0, 62.0, 52.0, 82.0, 76.0, 69.0, 50.0, 82.0, 190.0, 229.0, 85.0, 100.0, 83.0, 56.0, 50.0, 68.0, 106.0, 92.0, 50.0, 89.0, 101.0, 144.0, 156.0, 63.0, 78.0, 63.0, 150.0]\n",
            "Avg. score =  96.04\n"
          ]
        }
      ]
    }
  ]
}